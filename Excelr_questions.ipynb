{
 "cells": [
  {
   "cell_type": "code",
   "execution_count": 12,
   "metadata": {},
   "outputs": [
    {
     "name": "stdout",
     "output_type": "stream",
     "text": [
      "10 <class 'int'>\n",
      "abc <class 'str'>\n",
      "10.5 <class 'float'>\n"
     ]
    }
   ],
   "source": [
    "#Day1\n",
    "#Write a program to declare variables of different data types (integer, float, string, and boolean). Print each variable and its type.\n",
    "a = 10\n",
    "b = 'abc'\n",
    "c=10.5\n",
    "print(a,type(a))\n",
    "print(b,type(b))\n",
    "print(c,type(c))"
   ]
  },
  {
   "cell_type": "code",
   "execution_count": 11,
   "metadata": {},
   "outputs": [
    {
     "name": "stdout",
     "output_type": "stream",
     "text": [
      "3\n",
      "[2, 3, 4]\n",
      "d\n",
      "('a', 'b', 'c')\n",
      "1\n",
      "dict_keys(['a', 'b', 'c', 'd', 'e'])\n",
      "dict_values([1, 2, 3, 4, 5])\n"
     ]
    }
   ],
   "source": [
    "#Day 2\n",
    "# Create a List, tuple and Dictionary with 5 elements in it and how to access few elements based on the index. Try  with different examples \n",
    "a=[1,2,3,4,5]\n",
    "print(a[2])\n",
    "print(a[1:4])\n",
    "b=('a','b','c','d','e')\n",
    "print(b[3])\n",
    "print(b[0:3])\n",
    "c={'a':1,'b':2,'c':3,'d':4,'e':5}\n",
    "print(c['a'])\n",
    "print(c.keys())\n",
    "print(c.values())"
   ]
  },
  {
   "cell_type": "code",
   "execution_count": 12,
   "metadata": {},
   "outputs": [
    {
     "name": "stdout",
     "output_type": "stream",
     "text": [
      "Grade B\n"
     ]
    }
   ],
   "source": [
    "# Day 3\n",
    "# Write a Python program that takes a student's marks in three subjects as input\n",
    "'''If the average is greater than or equal to 90, print \"Grade: A\".\n",
    "If the average is between 80 and 89, print \"Grade: B\".\n",
    "If the average is between 70 and 79, print \"Grade: C\".\n",
    "Otherwise, print \"Grade: Fail\".'''\n",
    "\n",
    "subject1=int(input(\"enter marks of first subject: \"))\n",
    "subject2=int(input(\"enter marks of second subject: \"))\n",
    "subject3=int(input(\"enter marks of third subject: \"))\n",
    "average=(subject1+subject2+subject3)/3\n",
    "if average >=90:\n",
    "    print(\"Grade A\")\n",
    "elif 80 <= average <90:\n",
    "    print(\"Grade B\")\n",
    "elif 70 <= average <80:\n",
    "    print(\"Grade C\")\n",
    "else:\n",
    "    print(\"Fail\")"
   ]
  },
  {
   "cell_type": "code",
   "execution_count": null,
   "metadata": {},
   "outputs": [],
   "source": []
  }
 ],
 "metadata": {
  "kernelspec": {
   "display_name": "Python 3",
   "language": "python",
   "name": "python3"
  },
  "language_info": {
   "codemirror_mode": {
    "name": "ipython",
    "version": 3
   },
   "file_extension": ".py",
   "mimetype": "text/x-python",
   "name": "python",
   "nbconvert_exporter": "python",
   "pygments_lexer": "ipython3",
   "version": "3.12.4"
  }
 },
 "nbformat": 4,
 "nbformat_minor": 2
}
